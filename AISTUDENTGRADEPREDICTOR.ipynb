{
  "nbformat": 4,
  "nbformat_minor": 0,
  "metadata": {
    "colab": {
      "provenance": []
    },
    "kernelspec": {
      "name": "python3",
      "display_name": "Python 3"
    },
    "language_info": {
      "name": "python"
    }
  },
  "cells": [
    {
      "cell_type": "code",
      "execution_count": null,
      "metadata": {
        "id": "hcf4iyCOcWnI"
      },
      "outputs": [],
      "source": []
    },
    {
      "cell_type": "code",
      "source": [
        "# Step 1: Import libraries\n",
        "import pandas as pd\n",
        "from sklearn.preprocessing import LabelEncoder\n",
        "from sklearn.model_selection import train_test_split\n",
        "from sklearn.tree import DecisionTreeClassifier\n",
        "from sklearn.metrics import accuracy_score, classification_report\n",
        "\n",
        "# Step 2: Create bigger dataset (15 students)\n",
        "data = pd.DataFrame({\n",
        "    'Hours_Studied': [5, 3, 1, 4, 6, 2, 7, 3, 5, 6, 4, 2, 1, 7, 5],\n",
        "    'Attendance': [90, 75, 50, 85, 95, 60, 98, 70, 88, 92, 80, 55, 40, 99, 87],\n",
        "    'Assignments': [80, 60, 40, 70, 90, 50, 95, 65, 82, 88, 75, 45, 35, 96, 85],\n",
        "    'Grade': ['A', 'B', 'C', 'B', 'A', 'C', 'A', 'B', 'A', 'A', 'B', 'C', 'C', 'A', 'B']\n",
        "})\n",
        "\n",
        "X = data[['Hours_Studied', 'Attendance', 'Assignments']]\n",
        "y = data['Grade']\n",
        "\n",
        "# Step 3: Encode grades\n",
        "le = LabelEncoder()\n",
        "y_encoded = le.fit_transform(y)  # A=0, B=1, C=2\n",
        "\n",
        "# Step 4: Split dataset\n",
        "X_train, X_test, y_train, y_test = train_test_split(X, y_encoded, test_size=0.2, random_state=42, stratify=y_encoded)\n",
        "\n",
        "# Step 5: Train Decision Tree model\n",
        "model = DecisionTreeClassifier()\n",
        "model.fit(X_train, y_train)\n",
        "\n",
        "# Step 6: Test & Evaluate\n",
        "y_pred = model.predict(X_test)\n",
        "print(\"Accuracy:\", accuracy_score(y_test, y_pred))\n",
        "print(\"\\nClassification Report:\\n\", classification_report(y_test, y_pred, target_names=le.classes_, zero_division=0))\n",
        "# Step 7: Interactive prediction\n",
        "print(\"\\n--- Student Grade Predictor ---\")\n",
        "hours = float(input(\"Enter Hours Studied: \"))\n",
        "attendance = float(input(\"Enter Attendance (%): \"))\n",
        "assignments = float(input(\"Enter Assignments Score: \"))\n",
        "\n",
        "# Convert input to DataFrame with same columns\n",
        "new_student = pd.DataFrame([[hours, attendance, assignments]], columns=X.columns)\n",
        "predicted_grade = le.inverse_transform(model.predict(new_student))\n",
        "print(\"Predicted Grade:\", predicted_grade[0])\n"
      ],
      "metadata": {
        "id": "SZoMwrmTceKk"
      },
      "execution_count": null,
      "outputs": []
    },
    {
      "cell_type": "code",
      "source": [],
      "metadata": {
        "id": "YPUE_Swycd4V"
      },
      "execution_count": null,
      "outputs": []
    }
  ]
}